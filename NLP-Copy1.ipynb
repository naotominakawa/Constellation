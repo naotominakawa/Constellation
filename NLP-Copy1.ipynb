{
 "cells": [
  {
   "cell_type": "markdown",
   "metadata": {},
   "source": [
    "# Analyze News Data with Natural Language Processing"
   ]
  },
  {
   "cell_type": "markdown",
   "metadata": {},
   "source": [
    "## Get news data through API\n",
    "https://newsapi.org/"
   ]
  },
  {
   "cell_type": "code",
   "execution_count": 1,
   "metadata": {},
   "outputs": [
    {
     "name": "stdout",
     "output_type": "stream",
     "text": [
      "{'status': 'ok', 'totalResults': 793, 'articles': [{'source': {'id': 'the-wall-street-journal', 'name': 'The Wall Street Journal'}, 'author': 'Benoit Faucon, Summer Said', 'title': 'Saudis Renew Push for Output Cuts as Coronavirus Weakens Oil Business - The Wall Street Journal', 'description': 'Outbreak is fueling Saudi Arabia’s push for supply cuts, hurting the oil industry’s profits and leading to project delays', 'url': 'https://www.wsj.com/articles/saudis-renew-push-for-output-cuts-as-coronavirus-weakens-oil-business-11583163297', 'urlToImage': 'https://images.wsj.net/im-159449/social', 'publishedAt': '2020-03-02T18:54:00Z', 'content': 'Saudi Arabia is trying to persuade Russia to join oil producers in an emergency crude-production cut, as the industry grapples with oversupply and operational slowdowns resulting from the spread of the coronavirus.\\r\\nRepresentatives from the Organization of th… [+270 chars]'}, {'source': {'id': 'the-wall-street-journal', 'name': 'The Wall Street Journal'}, 'author': 'Gunjan Banerji', 'title': 'Tech Stocks Stage Dramatic Reversal Higher - The Wall Street Journal', 'description': 'Rally shows group’s resilience after worst Wall Street selloff since the financial crisis', 'url': 'https://www.wsj.com/articles/tech-stocks-stage-dramatic-reversal-higher-11583174385', 'urlToImage': 'https://images.wsj.net/im-159626/social', 'publishedAt': '2020-03-02T18:39:00Z', 'content': 'The S&amp;P 500s technology sector is flying ahead of the broader market Monday, a sign of the groups resilience after the worst Wall Street selloff since the financial crisis.\\r\\nThe tech sector, which contains shares of cloud companies and software providers,… [+225 chars]'}, {'source': {'id': 'the-wall-street-journal', 'name': 'The Wall Street Journal'}, 'author': 'Tripp Mickle', 'title': 'Tim Cook and Apple Bet Everything on China. Then Coronavirus Hit.', 'description': 'Quarantines, tariffs and slumping sales have caused agitation about the company’s strategy of assembling most of its products there', 'url': 'https://www.wsj.com/articles/tim-cook-and-apple-bet-everything-on-china-then-coronavirus-hit-11583172087', 'urlToImage': 'https://images.wsj.net/im-159357/social', 'publishedAt': '2020-03-02T18:05:16Z', 'content': 'Long before the coronavirus struck, Apple Inc.s operations team began raising concerns about the technology giants dependency on China.\\r\\nSome operations executives suggested as early as 2015 that the company relocate assembly of at least one product to Vietna… [+214 chars]'}, {'source': {'id': 'the-wall-street-journal', 'name': 'The Wall Street Journal'}, 'author': 'Alison Sider', 'title': 'Airlines Face Test...', 'description': 'Airlines Face Test... (Top headline, 12th story, link ) Related stories: STOCKS TRY TO RECOVER FROM SICK... DEVELOPING... Stimulus Hopes... Treasury Yields Hit Record Lows... Negative Rates in Sight... Bye-bye handshakes... FEMA prepping for emergency... Viru…', 'url': 'https://www.wsj.com/articles/u-s-airlines-face-test-as-epidemic-spreads-11583157379', 'urlToImage': 'https://images.wsj.net/im-159407/social', 'publishedAt': '2020-03-02T18:01:36Z', 'content': 'U.S. airlines retooled their businesses over the past decade in ways they said would generate profits even during an economic shock.\\r\\nThe coronavirus epidemic rippling around the world is providing the biggest test yet of those efforts.\\r\\nThe most significant … [+88 chars]'}, {'source': {'id': 'the-wall-street-journal', 'name': 'The Wall Street Journal'}, 'author': 'Lucy Craymer', 'title': 'Coronavirus Spreading Faster Outside China Than Within - The Wall Street Journal', 'description': 'Coronavirus Spreading Faster Outside China Than Within The Wall Street Journal Coronavirus: EU raises risk level to high, Iran cases exceed 1,500 CNBC What to know about the coronavirus (COVID-19), from symptoms to treatment Sarasota Herald-Tribune Why a go-i…', 'url': 'https://www.wsj.com/articles/coronavirus-spreading-faster-outside-china-than-within-11583142293', 'urlToImage': 'https://images.wsj.net/im-159419/social', 'publishedAt': '2020-03-02T18:00:00Z', 'content': 'The global death toll from the novel coronavirus surpassed 3,000 Monday, as new cases jumped in Italy, Iran and South Korea and three more nations reported their first confirmed patients.\\r\\nThe number of confirmed cases has grown more quickly outside China tha… [+273 chars]'}, {'source': {'id': 'the-wall-street-journal', 'name': 'The Wall Street Journal'}, 'author': 'Courtney McBride', 'title': 'U.S. Orders Cap on Chinese State Media Personnel - The Wall Street Journal', 'description': 'U.S. Orders Cap on Chinese State Media Personnel The Wall Street Journal U.S. Orders Chinese State Media to Cut Staff in U.S. by 40% Bloomberg Trump administration orders four Chinese news outlets in U.S. to reduce staffs The Washington Post U.S. Limits Chine…', 'url': 'https://www.wsj.com/articles/u-s-orders-cap-on-chinese-state-media-personnel-11583172000', 'urlToImage': 'https://images.wsj.net/im-159596/social', 'publishedAt': '2020-03-02T18:00:00Z', 'content': 'WASHINGTONThe Trump administration is ordering Chinas major state media companies to sharply reduce the ranks of Chinese nationals in the U.S. in retaliation for years of tightening restrictions on American news outlets by Beijing. \\r\\nState Department official… [+180 chars]'}, {'source': {'id': 'the-wall-street-journal', 'name': 'The Wall Street Journal'}, 'author': 'Andrew Beaton', 'title': 'Wildest NFL Off-Season Ever...', 'description': 'Brady has been with the New England Patriots for two decades. Now he could be on the move in an off-season that could see an unprecedented game of quarterback musical chairs.', 'url': 'https://www.wsj.com/articles/tom-brady-nfl-free-agency-quarterbacks-11583120100', 'urlToImage': 'https://images.wsj.net/im-159366/social', 'publishedAt': '2020-03-02T16:16:38Z', 'content': 'Indianapolis \\r\\nTwenty years ago, Tom Brady arrived at the NFL combine and teams werent particularly interested in talking about him. His arms were undefined and gangly, like strands of linguine. He was a 22-year-old with dad bod, a long list of question marks… [+88 chars]'}, {'source': {'id': 'the-wall-street-journal', 'name': 'The Wall Street Journal'}, 'author': 'Katie Camero', 'title': 'Collision of Two White Dwarf Stars Offers Clues About Rare Cosmic Events - The Wall Street Journal', 'description': 'Collision of Two White Dwarf Stars Offers Clues About Rare Cosmic Events The Wall Street Journal Two stars merged to form massive white dwarf Phys.org Astronomers Solve the Puzzle of a Massive White Dwarf Star With a Bizarre Atmosphere SciTechDaily Weird star…', 'url': 'https://www.wsj.com/articles/collision-of-two-white-dwarf-stars-offers-clues-about-rare-cosmic-events-11583164800', 'urlToImage': 'https://images.wsj.net/im-159239/social', 'publishedAt': '2020-03-02T16:00:00Z', 'content': 'The collision of two dying stars, known as white dwarfs, around 1.3 billion years ago has produced a star heavier than the sun with a rare carbon-rich atmosphere, a development thatif confirmedcould help astronomers better understand the cosmic events that ma… [+267 chars]'}, {'source': {'id': 'the-wall-street-journal', 'name': 'The Wall Street Journal'}, 'author': 'Thomas Gryta', 'title': 'Legendary GE CEO Jack Welch is dead at 84', 'description': 'Jack Welch led General Electric Co. through two decades of unparalleled growth and transformation, with a brash style that single-handedly remade the conglomerate and changed the landscape of America corporations.', 'url': 'https://www.wsj.com/articles/jack-welch-legendary-ceo-of-general-electric-dies-at-age-84-11583158270?mod=mktw', 'urlToImage': 'http://s.marketwatch.com/public/resources/MWimages/MW-IB232_welch__MG_20200302094545.jpg', 'publishedAt': '2020-03-02T14:57:57Z', 'content': 'Jack Welch led General Electric Co. through two decades of unparalleled growth and transformation, with a brash style that single-handedly remade the conglomerate and changed the landscape of America corporations. He died Sunday at age 84.\\r\\nBarrons on MarketW… [+1605 chars]'}, {'source': {'id': 'the-wall-street-journal', 'name': 'The Wall Street Journal'}, 'author': 'lepton', 'title': 'Jack Welch, Legendary CEO of General Electric, Dies at Age 84', 'description': 'Article URL: https://www.wsj.com/articles/jack-welch-legendary-ceo-of-general-electric-dies-at-age-84-11583158270 Comments URL: https://news.ycombinator.com/item?id=22464733 Points: 20 # Comments: 3', 'url': 'https://www.wsj.com/articles/jack-welch-legendary-ceo-of-general-electric-dies-at-age-84-11583158270', 'urlToImage': 'https://images.wsj.net/im-159409/social', 'publishedAt': '2020-03-02T14:35:16Z', 'content': 'Jack Welch led General Electric Co. through two decades of unparalleled growth and transformation, with a brash style that single-handedly remade the conglomerate and changed the landscape of America corporations. He died Sunday at age 84.\\r\\nMr. Welchs success… [+273 chars]'}, {'source': {'id': 'the-wall-street-journal', 'name': 'The Wall Street Journal'}, 'author': 'Neanda Salvaterra', 'title': 'Coronavirus Saps Energy Markets—Energy Journal', 'description': 'Crude prices were rallying this morning, with Brent—the global benchmark—up more than 2%. Still, oil and gas markets are preparing for what could be another unsettling week as the global coronavirus crisis continues its spread. The epidemic is upending operat…', 'url': 'https://blogs.wsj.com/moneybeat/2020/03/02/coronavirus-saps-energy-markets-energy-journal/', 'urlToImage': 'https://s.wsj.net/blogs/img/WSJ_Logo_BlackBackground_1200x630social', 'publishedAt': '2020-03-02T14:29:38Z', 'content': 'Mar 2, 2020 9:29 am ET\\r\\n Crude prices were rallying this morning, with Brentthe global benchmarkup more than 2%. Still, oil and gas markets are preparing for what could be another unsettling week as the global coronavirus crisis continues its spread. The epid… [+146 chars]'}, {'source': {'id': 'the-wall-street-journal', 'name': 'The Wall Street Journal'}, 'author': 'Lukas I. Alpert, Miriam Gottfried', 'title': \"Michael Bloomberg's Global Business Won't Be Easy to Cast Off\", 'description': \"Michael Bloomberg's financial-data and media company made him the ninth-richest person in the world and is the source of the wealth he has thrown into his presidential run. But it could become a political liability if he wins-one that might be difficult to re…\", 'url': 'https://www.wsj.com/articles/michael-bloombergs-global-business-wont-be-easy-to-cast-off-11583154347', 'urlToImage': 'https://images.wsj.net/im-159011/social', 'publishedAt': '2020-03-02T13:50:02Z', 'content': 'Michael Bloombergs financial-data and media company made him the ninth-richest person in the world and is the source of the wealth he has thrown into his presidential run. But it could become a political liability if he winsone that might be difficult to reso… [+275 chars]'}, {'source': {'id': 'the-wall-street-journal', 'name': 'The Wall Street Journal'}, 'author': 'Dasl Yoon, Andrew Jeong', 'title': 'Leader of Secretive Church at Center of South Korea’s Virus Epidemic Apologizes - Wall Street Journal', 'description': 'Leader of Secretive Church at Center of South Korea’s Virus Epidemic Apologizes Wall Street Journal Coronavirus-linked South Korea sect leader apologizes for virus spread amid murder probe Fox News Coronavirus: South Korea church leader apologises for infecti…', 'url': 'https://www.wsj.com/articles/leader-of-secretive-church-at-center-of-south-koreas-virus-epidemic-apologizes-11583151284', 'urlToImage': 'https://images.wsj.net/im-159394/social', 'publishedAt': '2020-03-02T12:30:00Z', 'content': 'GAPYEONG, South KoreaWith a nation demanding answers as infection cases rise, the 88-year-old founder of a secretive church central to South Koreas coronavirus epidemic issued an apology.\\r\\nI am not sure what words of mine will do, said Lee Man-hee, head of th… [+183 chars]'}, {'source': {'id': 'the-wall-street-journal', 'name': 'The Wall Street Journal'}, 'author': None, 'title': 'How a South Korean Church Helped Spread the Coronavirus', 'description': 'The leader of an enigmatic church, accused by South Korean officials of spreading the coronavirus epidemic, apologized to the public. WSJ’s Dasl Yoon explains how the church’s secretive practices may have jeopardized containment efforts. Photo: Lee Moo Ryul/N…', 'url': 'https://www.wsj.com/video/how-a-south-korean-church-helped-spread-the-coronavirus/35C82C31-E313-48BC-AEBC-DB9283693EFA.html', 'urlToImage': 'http://m.wsj.net/video/20200302/030220daeguvirus1/030220daeguvirus1_1280x720.jpg', 'publishedAt': '2020-03-02T12:23:10Z', 'content': 'WSJs House of the Year: A Contemporary Home With Hawaiian Spirit \\r\\n1/30/2020A modern, 7,500 square-foot home connects owner Elizabeth Grossman to the nature and spiritual vortex that drew her to Lanikai, a neighborhood on Oahu. She gives us a tour, and explai… [+64 chars]'}, {'source': {'id': 'the-wall-street-journal', 'name': 'The Wall Street Journal'}, 'author': 'Paul J. Davies', 'title': 'Long-Term U.S. Treasury Yields Hit Record Lows - The Wall Street Journal', 'description': 'Long-Term U.S. Treasury Yields Hit Record Lows The Wall Street Journal Goldman now sees the Federal Reserve getting even more aggressive in the face of coronavirus scare CNBC What Would It Take for the Fed to Cut Rates to Zero? Bloomberg Markets and Finance A…', 'url': 'https://www.wsj.com/articles/long-term-u-s-treasury-yields-hit-record-lows-11583151460', 'urlToImage': 'https://images.wsj.net/im-159397/social', 'publishedAt': '2020-03-02T12:17:00Z', 'content': 'Investors pushed down the yields on long-term U.S. Treasurys to fresh records early Monday, signaling a flight to the safety of government debt.\\r\\nYields fell across Europe and in Japan on the growing prospect for central bank action to battle the economic eff… [+161 chars]'}, {'source': {'id': 'the-wall-street-journal', 'name': 'The Wall Street Journal'}, 'author': None, 'title': 'The Rise and Fall of the Boy Scouts', 'description': 'The Boy Scouts of America filed for bankruptcy in February, amid a decline in membership at the century-old organization. Here’s how the Boy Scouts went from being the largest youth organization in the country to the verge of collapse. PHOTO: AP/Rick Bowmer', 'url': 'https://www.wsj.com/video/the-rise-and-fall-of-the-boy-scouts/FD9C033F-674C-405A-AC74-3C1171404C69.html', 'urlToImage': 'http://m.wsj.net/video/20200228/030220bankruptboyscouts/030220bankruptboyscouts_1280x720.jpg', 'publishedAt': '2020-03-02T12:00:00Z', 'content': 'WSJs House of the Year: A Contemporary Home With Hawaiian Spirit \\r\\n1/30/2020A modern, 7,500 square-foot home connects owner Elizabeth Grossman to the nature and spiritual vortex that drew her to Lanikai, a neighborhood on Oahu. She gives us a tour, and explai… [+64 chars]'}, {'source': {'id': 'the-wall-street-journal', 'name': 'The Wall Street Journal'}, 'author': 'Jeffrey Sparshott', 'title': 'Newsletter: Coronavirus Taking a Toll on Global Economy', 'description': 'Your daily economics newsletter from The Wall Street Journal.', 'url': 'https://blogs.wsj.com/economics/2020/03/02/newsletter-coronavirus-taking-a-toll-on-global-economy/', 'urlToImage': 'https://images.wsj.net/im-159320', 'publishedAt': '2020-03-02T11:42:31Z', 'content': 'Mar 2, 2020 6:42 am ET\\r\\n This is the web version of the WSJs newsletter on the economy. You can sign up for daily delivery here. Global stocks rebounded, the yield on benchmark 10-year U.S. Treasurys briefly fell close to 1% and investors bet that central ban… [+99 chars]'}, {'source': {'id': 'the-wall-street-journal', 'name': 'The Wall Street Journal'}, 'author': 'WSJ Staff', 'title': 'WSJ Wealth Adviser Briefing: Exaggerated Selloff, Birkin Bags, Hawaii Property', 'description': \"The coronavirus selloff might be exaggerated; the high resale prices of Birkin bags caused trouble for Hermes, and wealth property owners pursued property on Hawaii's Kona-Kohala coast.\", 'url': 'https://blogs.wsj.com/moneybeat/2020/03/02/wsj-wealth-adviser-briefing-exaggerated-selloff-birkin-bags-hawaii-property/', 'urlToImage': 'https://s.wsj.net/blogs/img/WSJ_Logo_BlackBackground_1200x630social', 'publishedAt': '2020-03-02T11:00:26Z', 'content': 'Mar 2, 2020 6:00 am ET\\r\\n With the S&amp;P 500 down from last weeks high, is it time to buy the dip? There are lots of ways to approach the question, so lets divide the issue into two: technicals, for whether there should be a bounce soon, and fundamentals, fo… [+62 chars]'}, {'source': {'id': 'the-wall-street-journal', 'name': 'The Wall Street Journal'}, 'author': 'Drew Fitzgerald', 'title': 'AT&T Adds Another TV Option to Lure Cord-Cutters', 'description': 'Internet-based AT&T TV closely resembles DirecTV service, but sidesteps the satellite dish', 'url': 'https://www.wsj.com/articles/at-t-adds-another-tv-option-to-lure-cord-cutters-11583125261', 'urlToImage': 'https://images.wsj.net/im-159349/social', 'publishedAt': '2020-03-02T10:45:15Z', 'content': 'AT&amp;T Inc. launched a satellite into orbit last summer for its DirecTV service. It would be the telecom and media giants last.\\r\\nMore than five million U.S. households cut the pay-television cord in 2019 in search of cheaper and more flexible entertainment.… [+86 chars]'}, {'source': {'id': 'the-wall-street-journal', 'name': 'The Wall Street Journal'}, 'author': 'Paul Hannon', 'title': 'Global Growth to Slow Sharply as Coronavirus Takes Heavy Toll, Says OECD - The Wall Street Journal', 'description': \"Global Growth to Slow Sharply as Coronavirus Takes Heavy Toll, Says OECD The Wall Street Journal How COVID-19 is affecting the economy CBC News Coronavirus may shrink world economy, watchdog says Fox Business Coronavirus 'biggest threat to global economy sinc…\", 'url': 'https://www.wsj.com/articles/global-growth-to-slow-sharply-as-coronavirus-takes-heavy-toll-says-oecd-11583143200', 'urlToImage': 'https://images.wsj.net/im-159379/social', 'publishedAt': '2020-03-02T10:43:00Z', 'content': 'The global economy will slow sharply this year as governments attempt to contain the coronavirus epidemic, although the scale of the setback is highly uncertain, the Organization for Economic Cooperation and Development said Monday.\\r\\nIn its best case scenario… [+86 chars]'}]}\n"
     ]
    }
   ],
   "source": [
    "import requests\n",
    "\n",
    "response = requests.get(url)\n",
    "print(response.json())"
   ]
  },
  {
   "cell_type": "code",
   "execution_count": 2,
   "metadata": {},
   "outputs": [
    {
     "name": "stdout",
     "output_type": "stream",
     "text": [
      "{\n",
      "  \"status\": \"ok\",\n",
      "  \"totalResults\": 793,\n",
      "  \"articles\": [\n",
      "    {\n",
      "      \"source\": {\n",
      "        \"id\": \"the-wall-street-journal\",\n",
      "        \"name\": \"The Wall Street Journal\"\n",
      "      },\n",
      "      \"author\": \"Benoit Faucon, Summer Said\",\n",
      "      \"title\": \"Saudis Renew Push for Output Cuts as Coronavirus Weakens Oil Business - The Wall Street Journal\",\n",
      "      \"description\": \"Outbreak is fueling Saudi Arabia\\u2019s push for supply cuts, hurting the oil industry\\u2019s profits and leading to project delays\",\n",
      "      \"url\": \"https://www.wsj.com/articles/saudis-renew-push-for-output-cuts-as-coronavirus-weakens-oil-business-11583163297\",\n",
      "      \"urlToImage\": \"https://images.wsj.net/im-159449/social\",\n",
      "      \"publishedAt\": \"2020-03-02T18:54:00Z\",\n",
      "      \"content\": \"Saudi Arabia is trying to persuade Russia to join oil producers in an emergency crude-production cut, as the industry grapples with oversupply and operational slowdowns resulting from the spread of the coronavirus.\\r\\nRepresentatives from the Organization of th\\u2026 [+270 chars]\"\n",
      "    },\n",
      "    {\n",
      "      \"source\": {\n",
      "        \"id\": \"the-wall-street-journal\",\n",
      "        \"name\": \"The Wall Street Journal\"\n",
      "      },\n",
      "      \"author\": \"Gunjan Banerji\",\n",
      "      \"title\": \"Tech Stocks Stage Dramatic Reversal Higher - The Wall Street Journal\",\n",
      "      \"description\": \"Rally shows group\\u2019s resilience after worst Wall Street selloff since the financial crisis\",\n",
      "      \"url\": \"https://www.wsj.com/articles/tech-stocks-stage-dramatic-reversal-higher-11583174385\",\n",
      "      \"urlToImage\": \"https://images.wsj.net/im-159626/social\",\n",
      "      \"publishedAt\": \"2020-03-02T18:39:00Z\",\n",
      "      \"content\": \"The S&amp;P 500s technology sector is flying ahead of the broader market Monday, a sign of the groups resilience after the worst Wall Street selloff since the financial crisis.\\r\\nThe tech sector, which contains shares of cloud companies and software providers,\\u2026 [+225 chars]\"\n",
      "    },\n",
      "    {\n",
      "      \"source\": {\n",
      "        \"id\": \"the-wall-street-journal\",\n",
      "        \"name\": \"The Wall Street Journal\"\n",
      "      },\n",
      "      \"author\": \"Tripp Mickle\",\n",
      "      \"title\": \"Tim Cook and Apple Bet Everything on China. Then Coronavirus Hit.\",\n",
      "      \"description\": \"Quarantines, tariffs and slumping sales have caused agitation about the company\\u2019s strategy of assembling most of its products there\",\n",
      "      \"url\": \"https://www.wsj.com/articles/tim-cook-and-apple-bet-everything-on-china-then-coronavirus-hit-11583172087\",\n",
      "      \"urlToImage\": \"https://images.wsj.net/im-159357/social\",\n",
      "      \"publishedAt\": \"2020-03-02T18:05:16Z\",\n",
      "      \"content\": \"Long before the coronavirus struck, Apple Inc.s operations team began raising concerns about the technology giants dependency on China.\\r\\nSome operations executives suggested as early as 2015 that the company relocate assembly of at least one product to Vietna\\u2026 [+214 chars]\"\n",
      "    },\n",
      "    {\n",
      "      \"source\": {\n",
      "        \"id\": \"the-wall-street-journal\",\n",
      "        \"name\": \"The Wall Street Journal\"\n",
      "      },\n",
      "      \"author\": \"Alison Sider\",\n",
      "      \"title\": \"Airlines Face Test...\",\n",
      "      \"description\": \"Airlines Face Test... (Top headline, 12th story, link ) Related stories: STOCKS TRY TO RECOVER FROM SICK... DEVELOPING... Stimulus Hopes... Treasury Yields Hit Record Lows... Negative Rates in Sight... Bye-bye handshakes... FEMA prepping for emergency... Viru\\u2026\",\n",
      "      \"url\": \"https://www.wsj.com/articles/u-s-airlines-face-test-as-epidemic-spreads-11583157379\",\n",
      "      \"urlToImage\": \"https://images.wsj.net/im-159407/social\",\n",
      "      \"publishedAt\": \"2020-03-02T18:01:36Z\",\n",
      "      \"content\": \"U.S. airlines retooled their businesses over the past decade in ways they said would generate profits even during an economic shock.\\r\\nThe coronavirus epidemic rippling around the world is providing the biggest test yet of those efforts.\\r\\nThe most significant \\u2026 [+88 chars]\"\n",
      "    },\n",
      "    {\n",
      "      \"source\": {\n",
      "        \"id\": \"the-wall-street-journal\",\n",
      "        \"name\": \"The Wall Street Journal\"\n",
      "      },\n",
      "      \"author\": \"Lucy Craymer\",\n",
      "      \"title\": \"Coronavirus Spreading Faster Outside China Than Within - The Wall Street Journal\",\n",
      "      \"description\": \"Coronavirus Spreading Faster Outside China Than Within The Wall Street Journal Coronavirus: EU raises risk level to high, Iran cases exceed 1,500 CNBC What to know about the coronavirus (COVID-19), from symptoms to treatment Sarasota Herald-Tribune Why a go-i\\u2026\",\n",
      "      \"url\": \"https://www.wsj.com/articles/coronavirus-spreading-faster-outside-china-than-within-11583142293\",\n",
      "      \"urlToImage\": \"https://images.wsj.net/im-159419/social\",\n",
      "      \"publishedAt\": \"2020-03-02T18:00:00Z\",\n",
      "      \"content\": \"The global death toll from the novel coronavirus surpassed 3,000 Monday, as new cases jumped in Italy, Iran and South Korea and three more nations reported their first confirmed patients.\\r\\nThe number of confirmed cases has grown more quickly outside China tha\\u2026 [+273 chars]\"\n",
      "    },\n",
      "    {\n",
      "      \"source\": {\n",
      "        \"id\": \"the-wall-street-journal\",\n",
      "        \"name\": \"The Wall Street Journal\"\n",
      "      },\n",
      "      \"author\": \"Courtney McBride\",\n",
      "      \"title\": \"U.S. Orders Cap on Chinese State Media Personnel - The Wall Street Journal\",\n",
      "      \"description\": \"U.S. Orders Cap on Chinese State Media Personnel The Wall Street Journal U.S. Orders Chinese State Media to Cut Staff in U.S. by 40% Bloomberg Trump administration orders four Chinese news outlets in U.S. to reduce staffs The Washington Post U.S. Limits Chine\\u2026\",\n",
      "      \"url\": \"https://www.wsj.com/articles/u-s-orders-cap-on-chinese-state-media-personnel-11583172000\",\n",
      "      \"urlToImage\": \"https://images.wsj.net/im-159596/social\",\n",
      "      \"publishedAt\": \"2020-03-02T18:00:00Z\",\n",
      "      \"content\": \"WASHINGTONThe Trump administration is ordering Chinas major state media companies to sharply reduce the ranks of Chinese nationals in the U.S. in retaliation for years of tightening restrictions on American news outlets by Beijing. \\r\\nState Department official\\u2026 [+180 chars]\"\n",
      "    },\n",
      "    {\n",
      "      \"source\": {\n",
      "        \"id\": \"the-wall-street-journal\",\n",
      "        \"name\": \"The Wall Street Journal\"\n",
      "      },\n",
      "      \"author\": \"Andrew Beaton\",\n",
      "      \"title\": \"Wildest NFL Off-Season Ever...\",\n",
      "      \"description\": \"Brady has been with the New England Patriots for two decades. Now he could be on the move in an off-season that could see an unprecedented game of quarterback musical chairs.\",\n",
      "      \"url\": \"https://www.wsj.com/articles/tom-brady-nfl-free-agency-quarterbacks-11583120100\",\n",
      "      \"urlToImage\": \"https://images.wsj.net/im-159366/social\",\n",
      "      \"publishedAt\": \"2020-03-02T16:16:38Z\",\n",
      "      \"content\": \"Indianapolis \\r\\nTwenty years ago, Tom Brady arrived at the NFL combine and teams werent particularly interested in talking about him. His arms were undefined and gangly, like strands of linguine. He was a 22-year-old with dad bod, a long list of question marks\\u2026 [+88 chars]\"\n",
      "    },\n",
      "    {\n",
      "      \"source\": {\n",
      "        \"id\": \"the-wall-street-journal\",\n",
      "        \"name\": \"The Wall Street Journal\"\n",
      "      },\n",
      "      \"author\": \"Katie Camero\",\n",
      "      \"title\": \"Collision of Two White Dwarf Stars Offers Clues About Rare Cosmic Events - The Wall Street Journal\",\n",
      "      \"description\": \"Collision of Two White Dwarf Stars Offers Clues About Rare Cosmic Events The Wall Street Journal Two stars merged to form massive white dwarf Phys.org Astronomers Solve the Puzzle of a Massive White Dwarf Star With a Bizarre Atmosphere SciTechDaily Weird star\\u2026\",\n",
      "      \"url\": \"https://www.wsj.com/articles/collision-of-two-white-dwarf-stars-offers-clues-about-rare-cosmic-events-11583164800\",\n",
      "      \"urlToImage\": \"https://images.wsj.net/im-159239/social\",\n",
      "      \"publishedAt\": \"2020-03-02T16:00:00Z\",\n",
      "      \"content\": \"The collision of two dying stars, known as white dwarfs, around 1.3 billion years ago has produced a star heavier than the sun with a rare carbon-rich atmosphere, a development thatif confirmedcould help astronomers better understand the cosmic events that ma\\u2026 [+267 chars]\"\n",
      "    },\n",
      "    {\n",
      "      \"source\": {\n",
      "        \"id\": \"the-wall-street-journal\",\n",
      "        \"name\": \"The Wall Street Journal\"\n",
      "      },\n",
      "      \"author\": \"Thomas Gryta\",\n",
      "      \"title\": \"Legendary GE CEO Jack Welch is dead at 84\",\n",
      "      \"description\": \"Jack Welch led General Electric Co. through two decades of unparalleled growth and transformation, with a brash style that single-handedly remade the conglomerate and changed the landscape of America corporations.\",\n",
      "      \"url\": \"https://www.wsj.com/articles/jack-welch-legendary-ceo-of-general-electric-dies-at-age-84-11583158270?mod=mktw\",\n",
      "      \"urlToImage\": \"http://s.marketwatch.com/public/resources/MWimages/MW-IB232_welch__MG_20200302094545.jpg\",\n",
      "      \"publishedAt\": \"2020-03-02T14:57:57Z\",\n",
      "      \"content\": \"Jack Welch led General Electric Co. through two decades of unparalleled growth and transformation, with a brash style that single-handedly remade the conglomerate and changed the landscape of America corporations. He died Sunday at age 84.\\r\\nBarrons on MarketW\\u2026 [+1605 chars]\"\n",
      "    },\n",
      "    {\n",
      "      \"source\": {\n",
      "        \"id\": \"the-wall-street-journal\",\n",
      "        \"name\": \"The Wall Street Journal\"\n",
      "      },\n",
      "      \"author\": \"lepton\",\n",
      "      \"title\": \"Jack Welch, Legendary CEO of General Electric, Dies at Age 84\",\n",
      "      \"description\": \"Article URL: https://www.wsj.com/articles/jack-welch-legendary-ceo-of-general-electric-dies-at-age-84-11583158270 Comments URL: https://news.ycombinator.com/item?id=22464733 Points: 20 # Comments: 3\",\n",
      "      \"url\": \"https://www.wsj.com/articles/jack-welch-legendary-ceo-of-general-electric-dies-at-age-84-11583158270\",\n",
      "      \"urlToImage\": \"https://images.wsj.net/im-159409/social\",\n",
      "      \"publishedAt\": \"2020-03-02T14:35:16Z\",\n",
      "      \"content\": \"Jack Welch led General Electric Co. through two decades of unparalleled growth and transformation, with a brash style that single-handedly remade the conglomerate and changed the landscape of America corporations. He died Sunday at age 84.\\r\\nMr. Welchs success\\u2026 [+273 chars]\"\n",
      "    },\n",
      "    {\n",
      "      \"source\": {\n",
      "        \"id\": \"the-wall-street-journal\",\n",
      "        \"name\": \"The Wall Street Journal\"\n",
      "      },\n",
      "      \"author\": \"Neanda Salvaterra\",\n",
      "      \"title\": \"Coronavirus Saps Energy Markets\\u2014Energy Journal\",\n",
      "      \"description\": \"Crude prices were rallying this morning, with Brent\\u2014the global benchmark\\u2014up more than 2%. Still, oil and gas markets are preparing for what could be another unsettling week as the global coronavirus crisis continues its spread. The epidemic is upending operat\\u2026\",\n",
      "      \"url\": \"https://blogs.wsj.com/moneybeat/2020/03/02/coronavirus-saps-energy-markets-energy-journal/\",\n",
      "      \"urlToImage\": \"https://s.wsj.net/blogs/img/WSJ_Logo_BlackBackground_1200x630social\",\n",
      "      \"publishedAt\": \"2020-03-02T14:29:38Z\",\n",
      "      \"content\": \"Mar 2, 2020 9:29 am ET\\r\\n Crude prices were rallying this morning, with Brentthe global benchmarkup more than 2%. Still, oil and gas markets are preparing for what could be another unsettling week as the global coronavirus crisis continues its spread. The epid\\u2026 [+146 chars]\"\n",
      "    },\n",
      "    {\n",
      "      \"source\": {\n",
      "        \"id\": \"the-wall-street-journal\",\n",
      "        \"name\": \"The Wall Street Journal\"\n",
      "      },\n",
      "      \"author\": \"Lukas I. Alpert, Miriam Gottfried\",\n",
      "      \"title\": \"Michael Bloomberg's Global Business Won't Be Easy to Cast Off\",\n",
      "      \"description\": \"Michael Bloomberg's financial-data and media company made him the ninth-richest person in the world and is the source of the wealth he has thrown into his presidential run. But it could become a political liability if he wins-one that might be difficult to re\\u2026\",\n",
      "      \"url\": \"https://www.wsj.com/articles/michael-bloombergs-global-business-wont-be-easy-to-cast-off-11583154347\",\n",
      "      \"urlToImage\": \"https://images.wsj.net/im-159011/social\",\n",
      "      \"publishedAt\": \"2020-03-02T13:50:02Z\",\n",
      "      \"content\": \"Michael Bloombergs financial-data and media company made him the ninth-richest person in the world and is the source of the wealth he has thrown into his presidential run. But it could become a political liability if he winsone that might be difficult to reso\\u2026 [+275 chars]\"\n",
      "    },\n",
      "    {\n",
      "      \"source\": {\n",
      "        \"id\": \"the-wall-street-journal\",\n",
      "        \"name\": \"The Wall Street Journal\"\n",
      "      },\n",
      "      \"author\": \"Dasl Yoon, Andrew Jeong\",\n",
      "      \"title\": \"Leader of Secretive Church at Center of South Korea\\u2019s Virus Epidemic Apologizes - Wall Street Journal\",\n",
      "      \"description\": \"Leader of Secretive Church at Center of South Korea\\u2019s Virus Epidemic Apologizes Wall Street Journal Coronavirus-linked South Korea sect leader apologizes for virus spread amid murder probe Fox News Coronavirus: South Korea church leader apologises for infecti\\u2026\",\n",
      "      \"url\": \"https://www.wsj.com/articles/leader-of-secretive-church-at-center-of-south-koreas-virus-epidemic-apologizes-11583151284\",\n",
      "      \"urlToImage\": \"https://images.wsj.net/im-159394/social\",\n",
      "      \"publishedAt\": \"2020-03-02T12:30:00Z\",\n",
      "      \"content\": \"GAPYEONG, South KoreaWith a nation demanding answers as infection cases rise, the 88-year-old founder of a secretive church central to South Koreas coronavirus epidemic issued an apology.\\r\\nI am not sure what words of mine will do, said Lee Man-hee, head of th\\u2026 [+183 chars]\"\n",
      "    },\n",
      "    {\n",
      "      \"source\": {\n",
      "        \"id\": \"the-wall-street-journal\",\n",
      "        \"name\": \"The Wall Street Journal\"\n",
      "      },\n",
      "      \"author\": null,\n",
      "      \"title\": \"How a South Korean Church Helped Spread the Coronavirus\",\n",
      "      \"description\": \"The leader of an enigmatic church, accused by South Korean officials of spreading the coronavirus epidemic, apologized to the public. WSJ\\u2019s Dasl Yoon explains how the church\\u2019s secretive practices may have jeopardized containment efforts. Photo: Lee Moo Ryul/N\\u2026\",\n",
      "      \"url\": \"https://www.wsj.com/video/how-a-south-korean-church-helped-spread-the-coronavirus/35C82C31-E313-48BC-AEBC-DB9283693EFA.html\",\n",
      "      \"urlToImage\": \"http://m.wsj.net/video/20200302/030220daeguvirus1/030220daeguvirus1_1280x720.jpg\",\n",
      "      \"publishedAt\": \"2020-03-02T12:23:10Z\",\n",
      "      \"content\": \"WSJs House of the Year: A Contemporary Home With Hawaiian Spirit \\r\\n1/30/2020A modern, 7,500 square-foot home connects owner Elizabeth Grossman to the nature and spiritual vortex that drew her to Lanikai, a neighborhood on Oahu. She gives us a tour, and explai\\u2026 [+64 chars]\"\n",
      "    },\n",
      "    {\n",
      "      \"source\": {\n",
      "        \"id\": \"the-wall-street-journal\",\n",
      "        \"name\": \"The Wall Street Journal\"\n",
      "      },\n",
      "      \"author\": \"Paul J. Davies\",\n",
      "      \"title\": \"Long-Term U.S. Treasury Yields Hit Record Lows - The Wall Street Journal\",\n",
      "      \"description\": \"Long-Term U.S. Treasury Yields Hit Record Lows The Wall Street Journal Goldman now sees the Federal Reserve getting even more aggressive in the face of coronavirus scare CNBC What Would It Take for the Fed to Cut Rates to Zero? Bloomberg Markets and Finance A\\u2026\",\n",
      "      \"url\": \"https://www.wsj.com/articles/long-term-u-s-treasury-yields-hit-record-lows-11583151460\",\n",
      "      \"urlToImage\": \"https://images.wsj.net/im-159397/social\",\n",
      "      \"publishedAt\": \"2020-03-02T12:17:00Z\",\n",
      "      \"content\": \"Investors pushed down the yields on long-term U.S. Treasurys to fresh records early Monday, signaling a flight to the safety of government debt.\\r\\nYields fell across Europe and in Japan on the growing prospect for central bank action to battle the economic eff\\u2026 [+161 chars]\"\n",
      "    },\n",
      "    {\n",
      "      \"source\": {\n",
      "        \"id\": \"the-wall-street-journal\",\n",
      "        \"name\": \"The Wall Street Journal\"\n",
      "      },\n",
      "      \"author\": null,\n",
      "      \"title\": \"The Rise and Fall of the Boy Scouts\",\n",
      "      \"description\": \"The Boy Scouts of America filed for bankruptcy in February, amid a decline in membership at the century-old organization. Here\\u2019s how the Boy Scouts went from being the largest youth organization in the country to the verge of collapse. PHOTO: AP/Rick Bowmer\",\n",
      "      \"url\": \"https://www.wsj.com/video/the-rise-and-fall-of-the-boy-scouts/FD9C033F-674C-405A-AC74-3C1171404C69.html\",\n",
      "      \"urlToImage\": \"http://m.wsj.net/video/20200228/030220bankruptboyscouts/030220bankruptboyscouts_1280x720.jpg\",\n",
      "      \"publishedAt\": \"2020-03-02T12:00:00Z\",\n",
      "      \"content\": \"WSJs House of the Year: A Contemporary Home With Hawaiian Spirit \\r\\n1/30/2020A modern, 7,500 square-foot home connects owner Elizabeth Grossman to the nature and spiritual vortex that drew her to Lanikai, a neighborhood on Oahu. She gives us a tour, and explai\\u2026 [+64 chars]\"\n",
      "    },\n",
      "    {\n",
      "      \"source\": {\n",
      "        \"id\": \"the-wall-street-journal\",\n",
      "        \"name\": \"The Wall Street Journal\"\n",
      "      },\n",
      "      \"author\": \"Jeffrey Sparshott\",\n",
      "      \"title\": \"Newsletter: Coronavirus Taking a Toll on Global Economy\",\n",
      "      \"description\": \"Your daily economics newsletter from The Wall Street Journal.\",\n",
      "      \"url\": \"https://blogs.wsj.com/economics/2020/03/02/newsletter-coronavirus-taking-a-toll-on-global-economy/\",\n",
      "      \"urlToImage\": \"https://images.wsj.net/im-159320\",\n",
      "      \"publishedAt\": \"2020-03-02T11:42:31Z\",\n",
      "      \"content\": \"Mar 2, 2020 6:42 am ET\\r\\n This is the web version of the WSJs newsletter on the economy. You can sign up for daily delivery here. Global stocks rebounded, the yield on benchmark 10-year U.S. Treasurys briefly fell close to 1% and investors bet that central ban\\u2026 [+99 chars]\"\n",
      "    },\n",
      "    {\n",
      "      \"source\": {\n",
      "        \"id\": \"the-wall-street-journal\",\n",
      "        \"name\": \"The Wall Street Journal\"\n",
      "      },\n",
      "      \"author\": \"WSJ Staff\",\n",
      "      \"title\": \"WSJ Wealth Adviser Briefing: Exaggerated Selloff, Birkin Bags, Hawaii Property\",\n",
      "      \"description\": \"The coronavirus selloff might be exaggerated; the high resale prices of Birkin bags caused trouble for Hermes, and wealth property owners pursued property on Hawaii's Kona-Kohala coast.\",\n",
      "      \"url\": \"https://blogs.wsj.com/moneybeat/2020/03/02/wsj-wealth-adviser-briefing-exaggerated-selloff-birkin-bags-hawaii-property/\",\n",
      "      \"urlToImage\": \"https://s.wsj.net/blogs/img/WSJ_Logo_BlackBackground_1200x630social\",\n",
      "      \"publishedAt\": \"2020-03-02T11:00:26Z\",\n",
      "      \"content\": \"Mar 2, 2020 6:00 am ET\\r\\n With the S&amp;P 500 down from last weeks high, is it time to buy the dip? There are lots of ways to approach the question, so lets divide the issue into two: technicals, for whether there should be a bounce soon, and fundamentals, fo\\u2026 [+62 chars]\"\n",
      "    },\n",
      "    {\n",
      "      \"source\": {\n",
      "        \"id\": \"the-wall-street-journal\",\n",
      "        \"name\": \"The Wall Street Journal\"\n",
      "      },\n",
      "      \"author\": \"Drew Fitzgerald\",\n",
      "      \"title\": \"AT&T Adds Another TV Option to Lure Cord-Cutters\",\n",
      "      \"description\": \"Internet-based AT&T TV closely resembles DirecTV service, but sidesteps the satellite dish\",\n",
      "      \"url\": \"https://www.wsj.com/articles/at-t-adds-another-tv-option-to-lure-cord-cutters-11583125261\",\n",
      "      \"urlToImage\": \"https://images.wsj.net/im-159349/social\",\n",
      "      \"publishedAt\": \"2020-03-02T10:45:15Z\",\n",
      "      \"content\": \"AT&amp;T Inc. launched a satellite into orbit last summer for its DirecTV service. It would be the telecom and media giants last.\\r\\nMore than five million U.S. households cut the pay-television cord in 2019 in search of cheaper and more flexible entertainment.\\u2026 [+86 chars]\"\n",
      "    },\n",
      "    {\n",
      "      \"source\": {\n",
      "        \"id\": \"the-wall-street-journal\",\n",
      "        \"name\": \"The Wall Street Journal\"\n",
      "      },\n",
      "      \"author\": \"Paul Hannon\",\n",
      "      \"title\": \"Global Growth to Slow Sharply as Coronavirus Takes Heavy Toll, Says OECD - The Wall Street Journal\",\n",
      "      \"description\": \"Global Growth to Slow Sharply as Coronavirus Takes Heavy Toll, Says OECD The Wall Street Journal How COVID-19 is affecting the economy CBC News Coronavirus may shrink world economy, watchdog says Fox Business Coronavirus 'biggest threat to global economy sinc\\u2026\",\n",
      "      \"url\": \"https://www.wsj.com/articles/global-growth-to-slow-sharply-as-coronavirus-takes-heavy-toll-says-oecd-11583143200\",\n",
      "      \"urlToImage\": \"https://images.wsj.net/im-159379/social\",\n",
      "      \"publishedAt\": \"2020-03-02T10:43:00Z\",\n",
      "      \"content\": \"The global economy will slow sharply this year as governments attempt to contain the coronavirus epidemic, although the scale of the setback is highly uncertain, the Organization for Economic Cooperation and Development said Monday.\\r\\nIn its best case scenario\\u2026 [+86 chars]\"\n",
      "    }\n",
      "  ]\n",
      "}\n"
     ]
    }
   ],
   "source": [
    "import json\n",
    "print(json.dumps(response.json(), indent=2))"
   ]
  },
  {
   "cell_type": "markdown",
   "metadata": {},
   "source": [
    "## Obtain headlines from JSON file"
   ]
  },
  {
   "cell_type": "code",
   "execution_count": 4,
   "metadata": {},
   "outputs": [],
   "source": [
    "import pandas as pd\n",
    "import numpy as np"
   ]
  },
  {
   "cell_type": "code",
   "execution_count": 5,
   "metadata": {
    "scrolled": true
   },
   "outputs": [
    {
     "name": "stdout",
     "output_type": "stream",
     "text": [
      "                                             headline\n",
      "0   Saudis Renew Push for Output Cuts as Coronavir...\n",
      "1   Tech Stocks Stage Dramatic Reversal Higher - T...\n",
      "2   Tim Cook and Apple Bet Everything on China. Th...\n",
      "3                               Airlines Face Test...\n",
      "4   Coronavirus Spreading Faster Outside China Tha...\n",
      "5   U.S. Orders Cap on Chinese State Media Personn...\n",
      "6                      Wildest NFL Off-Season Ever...\n",
      "7   Collision of Two White Dwarf Stars Offers Clue...\n",
      "8           Legendary GE CEO Jack Welch is dead at 84\n",
      "9   Jack Welch, Legendary CEO of General Electric,...\n",
      "10     Coronavirus Saps Energy Markets—Energy Journal\n",
      "11  Michael Bloomberg's Global Business Won't Be E...\n",
      "12  Leader of Secretive Church at Center of South ...\n",
      "13  How a South Korean Church Helped Spread the Co...\n",
      "14  Long-Term U.S. Treasury Yields Hit Record Lows...\n",
      "15                The Rise and Fall of the Boy Scouts\n",
      "16  Newsletter: Coronavirus Taking a Toll on Globa...\n",
      "17  WSJ Wealth Adviser Briefing: Exaggerated Sello...\n",
      "18   AT&T Adds Another TV Option to Lure Cord-Cutters\n",
      "19  Global Growth to Slow Sharply as Coronavirus T...\n"
     ]
    }
   ],
   "source": [
    "response.json()['articles'][0]['title']\n",
    "num_news = len(response.json()['articles'])\n",
    "\n",
    "headlines = list()\n",
    "\n",
    "for i in range(num_news):\n",
    "    headlines.append(response.json()['articles'][i]['title'])\n",
    "\n",
    "headlines = pd.DataFrame(headlines, columns=['headline'])\n",
    "print(headlines)"
   ]
  },
  {
   "cell_type": "code",
   "execution_count": 6,
   "metadata": {},
   "outputs": [],
   "source": [
    "#from tqdm import tqdm\n",
    "#tqdm.pandas(desc=\"progress-bar\")\n",
    "#from gensim.models import Doc2Vec\n",
    "#from sklearn import utils\n",
    "#from sklearn.model_selection import train_test_split\n",
    "#import gensim\n",
    "#from sklearn.linear_model import LogisticRegression\n",
    "#from gensim.models.doc2vec import TaggedDocument\n",
    "#import re"
   ]
  },
  {
   "cell_type": "markdown",
   "metadata": {},
   "source": [
    "## NLP functions"
   ]
  },
  {
   "cell_type": "code",
   "execution_count": 8,
   "metadata": {},
   "outputs": [
    {
     "name": "stderr",
     "output_type": "stream",
     "text": [
      "/anaconda3/envs/Python37/lib/python3.7/site-packages/sklearn/feature_extraction/dict_vectorizer.py:6: DeprecationWarning: Using or importing the ABCs from 'collections' instead of from 'collections.abc' is deprecated, and in 3.8 it will stop working\n",
      "  from collections import Mapping\n"
     ]
    }
   ],
   "source": [
    "from nltk.corpus import stopwords\n",
    "from nltk.stem import WordNetLemmatizer\n",
    "from nltk.stem import PorterStemmer\n",
    "from nltk.stem import LancasterStemmer\n",
    "from nltk.stem import SnowballStemmer\n",
    "import string\n",
    "\n",
    "# Define NLP functions\n",
    "\n",
    "# Tokenizer\n",
    "def tokenize(s):\n",
    "    s = \"\".join(\" \" if x in string.punctuation else x for x in s.lower())\n",
    "    return s.split()\n",
    "\n",
    "# Lemmatizer\n",
    "lemmatizer = WordNetLemmatizer()\n",
    "\n",
    "def lemmatize(sentence):\n",
    "    return [lemmatizer.lemmatize(word) for word in sentence]\n",
    "\n",
    "# Stemming\n",
    "ps = PorterStemmer()\n",
    "#ls = LancasterStemmer()\n",
    "#ss = SnowballStemmer(\"english\")\n",
    "\n",
    "def stemming(sentence):\n",
    "    return [ps.stem(word) for word in sentence]\n",
    "    #return [ls.stem(word) for word in sentence]\n",
    "    #return [ss.stem(word) for word in sentence]\n",
    "    #return [stem(word) for word in sentence]\n",
    "\n",
    "# Remove Stop words\n",
    "    \n",
    "stop_words = stopwords.words('english')\n",
    "\n",
    "for s in string.punctuation:\n",
    "    stop_words.append(s)\n",
    "\n",
    "for s in '1234567890':\n",
    "    stop_words.append(s)\n",
    "\n",
    "def remove_stopwords(sentence):\n",
    "    return [word for word in sentence if word not in stop_words]\n",
    "\n",
    "def remove_low_freq_words(sentence):\n",
    "    return [word for word in sentence if word not in low_freq_words]"
   ]
  },
  {
   "cell_type": "markdown",
   "metadata": {},
   "source": [
    "## Process regular expressions, stemming, lemmatization, etc"
   ]
  },
  {
   "cell_type": "code",
   "execution_count": 9,
   "metadata": {},
   "outputs": [
    {
     "data": {
      "text/plain": [
       "0     saudis renew push for output cuts as coronavir...\n",
       "1     tech stocks stage dramatic reversal higher - t...\n",
       "2     tim cook and apple bet everything on china. th...\n",
       "3                                 airlines face test...\n",
       "4     coronavirus spreading faster outside china tha...\n",
       "5     u.s. orders cap on chinese state media personn...\n",
       "6                        wildest nfl off-season ever...\n",
       "7     collision of two white dwarf stars offers clue...\n",
       "8             legendary ge ceo jack welch is dead at 84\n",
       "9     jack welch, legendary ceo of general electric,...\n",
       "10       coronavirus saps energy markets—energy journal\n",
       "11    michael bloomberg's global business won't be e...\n",
       "12    leader of secretive church at center of south ...\n",
       "13    how a south korean church helped spread the co...\n",
       "14    long-term u.s. treasury yields hit record lows...\n",
       "15                  the rise and fall of the boy scouts\n",
       "16    newsletter: coronavirus taking a toll on globa...\n",
       "17    wsj wealth adviser briefing: exaggerated sello...\n",
       "18     at&t adds another tv option to lure cord-cutters\n",
       "19    global growth to slow sharply as coronavirus t...\n",
       "Name: headline, dtype: object"
      ]
     },
     "execution_count": 9,
     "metadata": {},
     "output_type": "execute_result"
    }
   ],
   "source": [
    "headlines[\"headline\"] = headlines[\"headline\"].apply(str.lower)\n",
    "headlines[\"headline\"]"
   ]
  },
  {
   "cell_type": "code",
   "execution_count": 10,
   "metadata": {},
   "outputs": [
    {
     "data": {
      "text/plain": [
       "0     [saudis, renew, push, for, output, cuts, as, c...\n",
       "1     [tech, stocks, stage, dramatic, reversal, high...\n",
       "2     [tim, cook, and, apple, bet, everything, on, c...\n",
       "3                                [airlines, face, test]\n",
       "4     [coronavirus, spreading, faster, outside, chin...\n",
       "5     [u, s, orders, cap, on, chinese, state, media,...\n",
       "6                     [wildest, nfl, off, season, ever]\n",
       "7     [collision, of, two, white, dwarf, stars, offe...\n",
       "8     [legendary, ge, ceo, jack, welch, is, dead, at...\n",
       "9     [jack, welch, legendary, ceo, of, general, ele...\n",
       "10    [coronavirus, saps, energy, markets—energy, jo...\n",
       "11    [michael, bloomberg, s, global, business, won,...\n",
       "12    [leader, of, secretive, church, at, center, of...\n",
       "13    [how, a, south, korean, church, helped, spread...\n",
       "14    [long, term, u, s, treasury, yields, hit, reco...\n",
       "15         [the, rise, and, fall, of, the, boy, scouts]\n",
       "16    [newsletter, coronavirus, taking, a, toll, on,...\n",
       "17    [wsj, wealth, adviser, briefing, exaggerated, ...\n",
       "18    [at, t, adds, another, tv, option, to, lure, c...\n",
       "19    [global, growth, to, slow, sharply, as, corona...\n",
       "Name: headline, dtype: object"
      ]
     },
     "execution_count": 10,
     "metadata": {},
     "output_type": "execute_result"
    }
   ],
   "source": [
    "headlines[\"headline\"] = headlines[\"headline\"].apply(tokenize)\n",
    "headlines[\"headline\"]"
   ]
  },
  {
   "cell_type": "code",
   "execution_count": 11,
   "metadata": {},
   "outputs": [
    {
     "data": {
      "text/plain": [
       "0     [saudi, renew, push, for, output, cut, a, coro...\n",
       "1     [tech, stock, stage, dramatic, reversal, highe...\n",
       "2     [tim, cook, and, apple, bet, everything, on, c...\n",
       "3                                 [airline, face, test]\n",
       "4     [coronavirus, spreading, faster, outside, chin...\n",
       "5     [u, s, order, cap, on, chinese, state, medium,...\n",
       "6                     [wildest, nfl, off, season, ever]\n",
       "7     [collision, of, two, white, dwarf, star, offer...\n",
       "8     [legendary, ge, ceo, jack, welch, is, dead, at...\n",
       "9     [jack, welch, legendary, ceo, of, general, ele...\n",
       "10    [coronavirus, sap, energy, markets—energy, jou...\n",
       "11    [michael, bloomberg, s, global, business, won,...\n",
       "12    [leader, of, secretive, church, at, center, of...\n",
       "13    [how, a, south, korean, church, helped, spread...\n",
       "14    [long, term, u, s, treasury, yield, hit, recor...\n",
       "15          [the, rise, and, fall, of, the, boy, scout]\n",
       "16    [newsletter, coronavirus, taking, a, toll, on,...\n",
       "17    [wsj, wealth, adviser, briefing, exaggerated, ...\n",
       "18    [at, t, add, another, tv, option, to, lure, co...\n",
       "19    [global, growth, to, slow, sharply, a, coronav...\n",
       "Name: headline, dtype: object"
      ]
     },
     "execution_count": 11,
     "metadata": {},
     "output_type": "execute_result"
    }
   ],
   "source": [
    "headlines[\"headline\"] = headlines[\"headline\"].apply(lemmatize)\n",
    "headlines[\"headline\"]"
   ]
  },
  {
   "cell_type": "code",
   "execution_count": 12,
   "metadata": {},
   "outputs": [
    {
     "data": {
      "text/plain": [
       "0     [saudi, renew, push, output, cut, coronavirus,...\n",
       "1     [tech, stock, stage, dramatic, reversal, highe...\n",
       "2     [tim, cook, apple, bet, everything, china, cor...\n",
       "3                                 [airline, face, test]\n",
       "4     [coronavirus, spreading, faster, outside, chin...\n",
       "5     [u, order, cap, chinese, state, medium, person...\n",
       "6                          [wildest, nfl, season, ever]\n",
       "7     [collision, two, white, dwarf, star, offer, cl...\n",
       "8           [legendary, ge, ceo, jack, welch, dead, 84]\n",
       "9     [jack, welch, legendary, ceo, general, electri...\n",
       "10    [coronavirus, sap, energy, markets—energy, jou...\n",
       "11    [michael, bloomberg, global, business, easy, c...\n",
       "12    [leader, secretive, church, center, south, kor...\n",
       "13    [south, korean, church, helped, spread, corona...\n",
       "14    [long, term, u, treasury, yield, hit, record, ...\n",
       "15                             [rise, fall, boy, scout]\n",
       "16    [newsletter, coronavirus, taking, toll, global...\n",
       "17    [wsj, wealth, adviser, briefing, exaggerated, ...\n",
       "18       [add, another, tv, option, lure, cord, cutter]\n",
       "19    [global, growth, slow, sharply, coronavirus, t...\n",
       "Name: headline, dtype: object"
      ]
     },
     "execution_count": 12,
     "metadata": {},
     "output_type": "execute_result"
    }
   ],
   "source": [
    "headlines[\"headline\"] = headlines[\"headline\"].apply(remove_stopwords)\n",
    "headlines[\"headline\"]"
   ]
  },
  {
   "cell_type": "markdown",
   "metadata": {},
   "source": [
    "## Obtain embeddings - Doc2Vec"
   ]
  },
  {
   "cell_type": "code",
   "execution_count": 24,
   "metadata": {},
   "outputs": [],
   "source": [
    "from gensim.models.doc2vec import Doc2Vec, TaggedDocument\n",
    "\n",
    "#documents = [TaggedDocument(doc, [i]) for i, doc in enumerate(list(df_new['title_l']))]\n",
    "documents = [TaggedDocument(doc, [i]) for i, doc in enumerate(headlines[\"headline\"])]"
   ]
  },
  {
   "cell_type": "code",
   "execution_count": 25,
   "metadata": {},
   "outputs": [
    {
     "data": {
      "text/plain": [
       "[TaggedDocument(words=['saudi', 'renew', 'push', 'output', 'cut', 'coronavirus', 'weakens', 'oil', 'business', 'wall', 'street', 'journal'], tags=[0]),\n",
       " TaggedDocument(words=['tech', 'stock', 'stage', 'dramatic', 'reversal', 'higher', 'wall', 'street', 'journal'], tags=[1]),\n",
       " TaggedDocument(words=['tim', 'cook', 'apple', 'bet', 'everything', 'china', 'coronavirus', 'hit'], tags=[2]),\n",
       " TaggedDocument(words=['airline', 'face', 'test'], tags=[3]),\n",
       " TaggedDocument(words=['coronavirus', 'spreading', 'faster', 'outside', 'china', 'within', 'wall', 'street', 'journal'], tags=[4]),\n",
       " TaggedDocument(words=['u', 'order', 'cap', 'chinese', 'state', 'medium', 'personnel', 'wall', 'street', 'journal'], tags=[5]),\n",
       " TaggedDocument(words=['wildest', 'nfl', 'season', 'ever'], tags=[6]),\n",
       " TaggedDocument(words=['collision', 'two', 'white', 'dwarf', 'star', 'offer', 'clue', 'rare', 'cosmic', 'event', 'wall', 'street', 'journal'], tags=[7]),\n",
       " TaggedDocument(words=['legendary', 'ge', 'ceo', 'jack', 'welch', 'dead', '84'], tags=[8]),\n",
       " TaggedDocument(words=['jack', 'welch', 'legendary', 'ceo', 'general', 'electric', 'dy', 'age', '84'], tags=[9]),\n",
       " TaggedDocument(words=['coronavirus', 'sap', 'energy', 'markets—energy', 'journal'], tags=[10]),\n",
       " TaggedDocument(words=['michael', 'bloomberg', 'global', 'business', 'easy', 'cast'], tags=[11]),\n",
       " TaggedDocument(words=['leader', 'secretive', 'church', 'center', 'south', 'korea’s', 'virus', 'epidemic', 'apologizes', 'wall', 'street', 'journal'], tags=[12]),\n",
       " TaggedDocument(words=['south', 'korean', 'church', 'helped', 'spread', 'coronavirus'], tags=[13]),\n",
       " TaggedDocument(words=['long', 'term', 'u', 'treasury', 'yield', 'hit', 'record', 'low', 'wall', 'street', 'journal'], tags=[14]),\n",
       " TaggedDocument(words=['rise', 'fall', 'boy', 'scout'], tags=[15]),\n",
       " TaggedDocument(words=['newsletter', 'coronavirus', 'taking', 'toll', 'global', 'economy'], tags=[16]),\n",
       " TaggedDocument(words=['wsj', 'wealth', 'adviser', 'briefing', 'exaggerated', 'selloff', 'birkin', 'bag', 'hawaii', 'property'], tags=[17]),\n",
       " TaggedDocument(words=['add', 'another', 'tv', 'option', 'lure', 'cord', 'cutter'], tags=[18]),\n",
       " TaggedDocument(words=['global', 'growth', 'slow', 'sharply', 'coronavirus', 'take', 'heavy', 'toll', 'say', 'oecd', 'wall', 'street', 'journal'], tags=[19])]"
      ]
     },
     "execution_count": 25,
     "metadata": {},
     "output_type": "execute_result"
    }
   ],
   "source": [
    "documents"
   ]
  },
  {
   "cell_type": "code",
   "execution_count": 29,
   "metadata": {},
   "outputs": [],
   "source": [
    "model = Doc2Vec(documents, vector_size=25, window=2, min_count=1, workers=4)"
   ]
  },
  {
   "cell_type": "code",
   "execution_count": 32,
   "metadata": {},
   "outputs": [
    {
     "name": "stdout",
     "output_type": "stream",
     "text": [
      "[ 0.01156097  0.00842657  0.0047307  -0.00057503 -0.01490565  0.00165214\n",
      "  0.01056284  0.01371252  0.01420717 -0.00112821 -0.00637715  0.00495564\n",
      " -0.00594578  0.00773305  0.01520802  0.01564086 -0.00679526  0.01021548\n",
      " -0.00174805  0.01598638  0.00840884 -0.0078946  -0.00867121 -0.0031955\n",
      "  0.01969692]\n",
      "[-0.01048496 -0.01879705 -0.00955989  0.00559177 -0.01230002 -0.00439624\n",
      " -0.00126387  0.01739201  0.01958081  0.0002418  -0.003906    0.01438724\n",
      "  0.0131123  -0.01136092 -0.00846958 -0.00197432 -0.01993669 -0.00137866\n",
      " -0.00301094  0.01667083 -0.00310794 -0.00024169 -0.00213518 -0.01464404\n",
      " -0.00277324]\n",
      "[ 0.01010718  0.00210458 -0.01378485 -0.01308318  0.01788651  0.01568544\n",
      "  0.00682296  0.00356132  0.01250898 -0.01666843 -0.01850578  0.00792386\n",
      "  0.00827461  0.01742305 -0.01442195  0.01683041  0.00973344  0.01173847\n",
      " -0.00211106 -0.00599477 -0.00060133  0.01443172 -0.01152513  0.01751753\n",
      "  0.01868213]\n",
      "[-0.01245263 -0.00264162 -0.01946105  0.01890337  0.01013695  0.01773914\n",
      "  0.00478272  0.01981906  0.0061092  -0.0024054   0.00098522 -0.01418761\n",
      "  0.01349975 -0.00784689  0.01488949 -0.01857573 -0.01743053 -0.01777866\n",
      " -0.01477442 -0.01053557  0.01040158  0.00082755 -0.00722885 -0.00027128\n",
      "  0.00614665]\n",
      "[ 0.00036339 -0.01049142  0.00080434 -0.00429043  0.0013281  -0.01337767\n",
      " -0.0121353  -0.01704095 -0.01974707  0.00024364 -0.0017694   0.0046297\n",
      " -0.00559012 -0.0065845   0.01955432 -0.01453349  0.01800638 -0.00574441\n",
      "  0.01100868 -0.01805545  0.00063582  0.01481712 -0.00707936  0.00751184\n",
      "  0.00267567]\n",
      "[ 1.1903074e-02 -5.6641935e-03  9.5984619e-03 -8.1211878e-03\n",
      " -1.5915120e-02 -1.5329530e-02 -1.3906517e-02 -1.7642563e-02\n",
      " -1.6396847e-02  3.0754674e-03 -1.5985131e-02 -4.0779770e-03\n",
      " -1.8372532e-02  1.1003893e-02 -4.9082686e-05  1.8087400e-02\n",
      "  3.6666323e-03 -2.5362759e-03  9.5634097e-03 -1.0653886e-02\n",
      "  1.3512709e-03  1.7893501e-02 -1.1985191e-02 -1.9487049e-02\n",
      " -3.0945188e-03]\n",
      "[-0.01352833 -0.00074849 -0.00482666 -0.00359131 -0.01476688  0.0176738\n",
      "  0.00124026  0.01390419  0.01069288  0.01740158  0.00233082  0.01952169\n",
      " -0.01721106 -0.00633612 -0.00057615  0.01522182 -0.00325942 -0.00756225\n",
      "  0.00394359  0.00613431 -0.00880298  0.00529503 -0.0057506  -0.01740703\n",
      "  0.01065192]\n",
      "[ 0.00851354  0.01830345 -0.01306425  0.01275511 -0.00812641  0.01078237\n",
      "  0.0065095   0.0113044   0.01213585  0.00048823  0.01384617  0.01459401\n",
      " -0.00784704 -0.00191431 -0.00373688 -0.00674876  0.01569892 -0.01729831\n",
      " -0.01796686 -0.00262873 -0.01649753 -0.00626179  0.0183827  -0.01001682\n",
      " -0.01341922]\n",
      "[-0.00522822  0.01678443 -0.01786083  0.01026999 -0.01697055 -0.00433702\n",
      "  0.00563939 -0.01281947 -0.00446531  0.01348671  0.01908276 -0.01216318\n",
      " -0.01653438 -0.00458898  0.00472578 -0.01558999  0.00231577 -0.0061973\n",
      " -0.01595929  0.01305647 -0.0119548   0.00163655 -0.00320744  0.01439583\n",
      " -0.01305749]\n",
      "[-0.0162849   0.00078207 -0.01600647  0.00880467  0.00440486  0.00355296\n",
      " -0.01527262  0.00257096  0.01985024 -0.01069751  0.00879706 -0.00974848\n",
      "  0.01689585 -0.01917657  0.00406289  0.0079159   0.01441399 -0.01379497\n",
      "  0.00014     0.01885373 -0.00363274 -0.00180189  0.0191427  -0.00171388\n",
      " -0.01426272]\n",
      "[-0.00675877 -0.00190105 -0.00028912  0.00014796 -0.01246956 -0.01353142\n",
      " -0.00260633 -0.00068576 -0.00374398  0.00642367  0.01845045  0.00382456\n",
      "  0.00310078 -0.01383203  0.001882    0.0094476   0.01586096 -0.01568584\n",
      "  0.01526648  0.00608268  0.01121075 -0.01759625 -0.00108001  0.00468242\n",
      " -0.00497557]\n",
      "[-0.00869891  0.01764012 -0.00072442  0.00137414  0.01594174  0.00226655\n",
      "  0.00487787  0.01754684  0.00632074  0.00523778  0.01737298  0.019085\n",
      "  0.00218108 -0.00740786 -0.01627168  0.00407142 -0.01850929  0.01774667\n",
      "  0.01656083  0.00496829 -0.01223614  0.01229575 -0.00959461 -0.00414939\n",
      " -0.00162522]\n",
      "[ 0.00974066 -0.01711275 -0.00994267 -0.00138711  0.01997509 -0.01040542\n",
      "  0.00621275 -0.00035811 -0.01057635 -0.00043125  0.00439974  0.01507169\n",
      " -0.00277967  0.01199483  0.0088607  -0.00323177  0.01720628 -0.0169841\n",
      "  0.01954617 -0.01050823  0.0079029   0.00306083 -0.01723305  0.01841274\n",
      "  0.00448844]\n",
      "[-0.01330489  0.00954302  0.01380207  0.00699911 -0.0115832  -0.00953051\n",
      "  0.01671815  0.01933632 -0.00487942  0.01059327 -0.00484324 -0.01966764\n",
      "  0.01734643 -0.00272717  0.0119793   0.01712472  0.0022481  -0.01369\n",
      "  0.01244013 -0.00225029 -0.00818084  0.00285652 -0.00080499 -0.01313055\n",
      " -0.00166036]\n",
      "[ 0.01845374  0.0081193   0.02000274 -0.00255529 -0.01601048  0.01536496\n",
      "  0.01002663  0.00032089 -0.01730373 -0.00082984 -0.01602506 -0.00240921\n",
      " -0.01848822 -0.00715132 -0.00247395 -0.00882819 -0.00497768  0.00906604\n",
      "  0.00934844 -0.00550037  0.00198084 -0.01838112  0.00780063  0.00021305\n",
      "  0.00933088]\n",
      "[ 0.00244891 -0.0015681   0.0060262  -0.00306372 -0.00985672 -0.00533562\n",
      " -0.01336967 -0.00038873  0.01961912 -0.01762179  0.00310684  0.00018182\n",
      " -0.00547428 -0.01552982  0.01278656  0.00689931  0.00060967  0.00504536\n",
      "  0.00650326 -0.01632686  0.01946459  0.00802475  0.01917964  0.00046171\n",
      "  0.0116153 ]\n",
      "[ 0.01582345  0.00136151  0.01394625 -0.0016315   0.01323128  0.01816555\n",
      " -0.00740177  0.01192237 -0.00035527 -0.00505271 -0.00796089 -0.00877769\n",
      " -0.00962967 -0.00035338  0.00993925 -0.00631506  0.00894305 -0.01453281\n",
      " -0.00482552  0.01285709  0.01895739 -0.00756572  0.01230173 -0.01146689\n",
      "  0.00428421]\n",
      "[ 9.91159141e-06 -6.21792069e-03  7.84598570e-03 -1.54257072e-02\n",
      " -1.55368500e-04  8.62800144e-03 -7.95490481e-03  3.01712053e-03\n",
      " -1.71676353e-02  1.82174072e-02  8.11214559e-03  1.58006381e-02\n",
      " -1.04307979e-02 -9.93314944e-03 -1.25801899e-02  1.50001515e-02\n",
      " -1.37865180e-02 -5.06768608e-03 -1.44134951e-03 -2.94439658e-03\n",
      "  1.76142510e-02 -1.21889943e-02  6.15606038e-03  5.20018802e-04\n",
      "  1.62700447e-03]\n",
      "[-0.00216085  0.00916511 -0.01628814 -0.01225957 -0.01159366 -0.00816126\n",
      "  0.01619717  0.00643366  0.00943472 -0.00364128 -0.00832588  0.00465373\n",
      "  0.0086957  -0.01205802  0.01328617  0.00542299 -0.00688617 -0.01555522\n",
      " -0.0099283   0.00728756  0.0120485  -0.00100866  0.01460044  0.01741855\n",
      "  0.00578578]\n",
      "[-0.01718096  0.00439765  0.00271608  0.01814753  0.01926179 -0.00657938\n",
      "  0.00998219 -0.01628559  0.00186362 -0.00939293 -0.01901144 -0.01728426\n",
      "  0.00169196  0.00266826 -0.00200745  0.00175444 -0.01896038 -0.00651697\n",
      "  0.01403766  0.01682957  0.00319794 -0.00688955  0.0077392  -0.01359612\n",
      " -0.00351112]\n"
     ]
    }
   ],
   "source": [
    "#appending all the vectors in a list for training\n",
    "X=[]\n",
    "for i in range(20):\n",
    "    X.append(model.docvecs[i])\n",
    "    print(model.docvecs[i])"
   ]
  },
  {
   "cell_type": "code",
   "execution_count": 56,
   "metadata": {},
   "outputs": [],
   "source": [
    "#import the modules\n",
    "from sklearn.cluster import KMeans\n",
    "#create the kmeans object withe vectors created previously\n",
    "kmeans = KMeans(n_clusters=3, random_state=0).fit(X)\n",
    "clusters = kmeans.labels_.tolist()"
   ]
  },
  {
   "cell_type": "code",
   "execution_count": 57,
   "metadata": {},
   "outputs": [
    {
     "data": {
      "image/png": "[encoded data removed]",
      "text/plain": [
       "<Figure size 1008x720 with 1 Axes>"
      ]
     },
     "metadata": {
      "needs_background": "light"
     },
     "output_type": "display_data"
    }
   ],
   "source": [
    "import matplotlib.pyplot as plt\n",
    "import seaborn as sns\n",
    "from sklearn.manifold import TSNE\n",
    "\n",
    "# Initialize t-SNE\n",
    "tsne = TSNE(n_components = 2, init = 'random', random_state = 10, perplexity = 100)\n",
    "\n",
    "tsne_df = tsne.fit_transform(X)\n",
    "fig, ax = plt.subplots(figsize = (14, 10))\n",
    "sns.scatterplot(tsne_df[:, 0], tsne_df[:, 1], s=100, alpha=0.5, hue=clusters, style=clusters, palette=\"Set2\")\n",
    "\n",
    "plt.show()"
   ]
  },
  {
   "cell_type": "code",
   "execution_count": 49,
   "metadata": {},
   "outputs": [
    {
     "data": {
      "text/plain": [
       "array([[  4.6844797 , -17.963833  ],\n",
       "       [ 41.31737   , -16.042406  ],\n",
       "       [-19.489807  ,  10.140945  ],\n",
       "       [ 18.596504  ,  44.888813  ],\n",
       "       [ 38.197945  ,   0.32803732],\n",
       "       [ 22.488274  , -24.57478   ],\n",
       "       [ 23.500103  ,  27.259632  ],\n",
       "       [ 22.354208  ,  -7.9126225 ],\n",
       "       [ 50.178196  ,  27.439676  ],\n",
       "       [-11.496268  ,  28.387661  ],\n",
       "       [ 36.239716  ,  39.718773  ],\n",
       "       [  8.127045  ,  -0.39495468],\n",
       "       [ 53.43973   ,   7.567437  ],\n",
       "       [ -9.157109  ,  -6.0878806 ],\n",
       "       [ -0.7456424 ,  45.04733   ],\n",
       "       [ 36.19529   ,  17.83906   ],\n",
       "       [ 12.388022  ,  15.526145  ],\n",
       "       [  6.685388  ,  29.589533  ],\n",
       "       [ 24.277863  ,   7.6874137 ],\n",
       "       [ -2.5316324 ,  12.398088  ]], dtype=float32)"
      ]
     },
     "execution_count": 49,
     "metadata": {},
     "output_type": "execute_result"
    }
   ],
   "source": []
  },
  {
   "cell_type": "code",
   "execution_count": null,
   "metadata": {},
   "outputs": [],
   "source": []
  }
 ],
 "metadata": {
  "kernelspec": {
   "display_name": "Python37",
   "language": "python",
   "name": "python37"
  },
  "language_info": {
   "codemirror_mode": {
    "name": "ipython",
    "version": 3
   },
   "file_extension": ".py",
   "mimetype": "text/x-python",
   "name": "python",
   "nbconvert_exporter": "python",
   "pygments_lexer": "ipython3",
   "version": "3.7.0"
  }
 },
 "nbformat": 4,
 "nbformat_minor": 2
}
